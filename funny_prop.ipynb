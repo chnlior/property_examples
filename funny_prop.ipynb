{
 "cells": [
  {
   "cell_type": "code",
   "execution_count": 9,
   "metadata": {},
   "outputs": [],
   "source": [
    "class FunnyProp:\n",
    "    # I am property that always return 3, \n",
    "    # too lazy to set anything, and notify my death \n",
    "    def __get__(self, obj, obj_type):\n",
    "        print('I am funny. I always return 3')\n",
    "        return 3\n",
    "    \n",
    "    def __set__(self, obj, value):\n",
    "        print('I am too lazy to set anything. Keeping value as 3')\n",
    "    \n",
    "    def __delete__(self, obj):\n",
    "        print('Oh. No. I am Dead') \n",
    "\n",
    "class Foo:\n",
    "    \n",
    "    x = FunnyProp()\n",
    "    \n",
    "    def __init__(self):\n",
    "        pass\n",
    "        \n",
    "foo = Foo()"
   ]
  },
  {
   "cell_type": "code",
   "execution_count": 10,
   "metadata": {},
   "outputs": [
    {
     "name": "stdout",
     "output_type": "stream",
     "text": [
      "I am funny. I always return 3\nI am funny. I always return 3\n"
     ]
    },
    {
     "data": {
      "text/plain": [
       "True"
      ]
     },
     "execution_count": 10,
     "metadata": {},
     "output_type": "execute_result"
    }
   ],
   "source": [
    "foo.x is bar.x\n"
   ]
  },
  {
   "cell_type": "code",
   "execution_count": null,
   "metadata": {},
   "outputs": [
    {
     "name": "stdout",
     "output_type": "stream",
     "text": [
      "I am funny. I always return 3\nI am funny. I always return 3\n"
     ]
    },
    {
     "data": {
      "text/plain": [
       "True"
      ]
     },
     "execution_count": 10,
     "metadata": {},
     "output_type": "execute_result"
    }
   ],
   "source": [
    "foo.x\n"
   ]
  },
  {
   "cell_type": "code",
   "execution_count": 3,
   "metadata": {},
   "outputs": [
    {
     "name": "stdout",
     "output_type": "stream",
     "text": [
      "I am too lazy to set anything. Keeping value as 3\n"
     ]
    }
   ],
   "source": [
    "foo.x = 10\n",
    "\n"
   ]
  },
  {
   "cell_type": "code",
   "execution_count": 3,
   "metadata": {},
   "outputs": [
    {
     "name": "stdout",
     "output_type": "stream",
     "text": [
      "I am funny. I always return 3\n"
     ]
    },
    {
     "data": {
      "text/plain": [
       "3"
      ]
     },
     "execution_count": 72,
     "metadata": {},
     "output_type": "execute_result"
    }
   ],
   "source": [
    "foo.x"
   ]
  },
  {
   "cell_type": "code",
   "execution_count": 11,
   "metadata": {},
   "outputs": [
    {
     "name": "stdout",
     "output_type": "stream",
     "text": [
      "Oh. No. I am Dead\n"
     ]
    }
   ],
   "source": [
    "del foo.x"
   ]
  },
  {
   "cell_type": "code",
   "execution_count": 24,
   "metadata": {},
   "outputs": [],
   "source": [
    "class FunnyProp:\n",
    "    # I am property that always return 3, \n",
    "    # too lazy to set anything, and notify my death \n",
    "    def __get__(self, obj, obj_type):\n",
    "        print('I am funny. I always return 3')\n",
    "        print('self = %s\\n obj = %s\\n obj_type = %s' %\n",
    "              (self, obj, obj_type))\n",
    "        return 3\n",
    "    \n",
    "    def __set__(self, obj, value):\n",
    "        print('I am too lazy to set anything. Keeping value as 3')\n",
    "    \n",
    "    def __delete__(self, obj):\n",
    "        print('Oh. No. I am Dead') \n",
    "\n",
    "class Foo:\n",
    "    \n",
    "    x = FunnyProp()\n",
    "    \n",
    "    def __init__(self):\n",
    "        pass\n",
    "        \n",
    "foo = Foo()\n"
   ]
  },
  {
   "cell_type": "code",
   "execution_count": 25,
   "metadata": {},
   "outputs": [
    {
     "name": "stdout",
     "output_type": "stream",
     "text": [
      "I am funny. I always return 3\nself = <__main__.FunnyProp object at 0x0000000005100A20>\n obj = <__main__.Foo object at 0x00000000051009E8>\n obj_type = <class '__main__.Foo'>\n"
     ]
    },
    {
     "data": {
      "text/plain": [
       "3"
      ]
     },
     "execution_count": 25,
     "metadata": {},
     "output_type": "execute_result"
    }
   ],
   "source": [
    "foo.x\n"
   ]
  },
  {
   "cell_type": "code",
   "execution_count": 26,
   "metadata": {},
   "outputs": [
    {
     "data": {
      "text/plain": [
       "<__main__.Foo at 0x51009e8>"
      ]
     },
     "execution_count": 26,
     "metadata": {},
     "output_type": "execute_result"
    }
   ],
   "source": [
    "foo"
   ]
  }
 ],
 "metadata": {
  "kernelspec": {
   "display_name": "Python 3",
   "language": "python",
   "name": "python3"
  },
  "language_info": {
   "codemirror_mode": {
    "name": "ipython",
    "version": 3
   },
   "file_extension": ".py",
   "mimetype": "text/x-python",
   "name": "python",
   "nbconvert_exporter": "python",
   "pygments_lexer": "ipython3",
   "version": "3.6.3"
  }
 },
 "nbformat": 4,
 "nbformat_minor": 2
}
