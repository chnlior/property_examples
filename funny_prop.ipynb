{
 "cells": [
  {
   "cell_type": "code",
   "execution_count": 48,
   "metadata": {},
   "outputs": [
    {
     "name": "stdout",
     "output_type": "stream",
     "text": [
      "I am funny data descriptor. I have __get__ and __set__\nI am funny non-data descriptor. I have __get__ but don't have __set__\n"
     ]
    }
   ],
   "source": [
    "class FunnyDatDescriptor:\n",
    "    def __init__(self):\n",
    "        print('I am funny data descriptor. '\n",
    "              'I have __get__ and __set__')\n",
    "    \n",
    "    def __get__(self, obj, obj_type):\n",
    "        print(' I always return 3')\n",
    "        return 3\n",
    "    \n",
    "    def __set__(self, obj, value):\n",
    "        print('I am too lazy to set anything.'\n",
    "              ' Keeping value as 3')\n",
    "    \n",
    "    def __delete__(self, obj):\n",
    "        print('Oh. No. I am Dead') \n"
   ]
  },
  {
   "cell_type": "code",
   "execution_count": 49,
   "metadata": {},
   "outputs": [
    {
     "name": "stdout",
     "output_type": "stream",
     "text": [
      "I am funny data descriptor. I have __get__ and __set__\nI am funny non-data descriptor. I have __get__ but don't have __set__\n"
     ]
    }
   ],
   "source": [
    "\n",
    "class FunnyNonDatDescriptor:\n",
    "    def __init__(self):\n",
    "        print('I am funny non-data descriptor. '\n",
    "              'I have __get__ but don\\'t have __set__')\n",
    "    \n",
    "    def __get__(self, obj, obj_type):\n",
    "        print('I am funny non-data descriptor.'\n",
    "              ' I always return 7')\n",
    "        return 7\n"
   ]
  },
  {
   "cell_type": "code",
   "execution_count": 50,
   "metadata": {},
   "outputs": [
    {
     "name": "stdout",
     "output_type": "stream",
     "text": [
      "I am funny data descriptor. I have __get__ and __set__\nI am funny non-data descriptor. I have __get__ but don't have __set__\n"
     ]
    }
   ],
   "source": [
    "class Foo:\n",
    "    \n",
    "    dd = FunnyDatDescriptor()\n",
    "    ndd = FunnyNonDatDescriptor()\n",
    "    \n",
    "    \n",
    "    def __init__(self):\n",
    "        pass\n",
    "\n",
    "foo = Foo()\n"
   ]
  },
  {
   "cell_type": "heading",
   "metadata": {},
   "level": 2,
   "source": [
    "The data descriptors \"dd\" and \"ddn\" are class attributes, thus as any cregular class attributes are \n",
    "the same on the class and class instances."
   ]
  },
  {
   "cell_type": "code",
   "execution_count": 51,
   "metadata": {},
   "outputs": [
    {
     "name": "stdout",
     "output_type": "stream",
     "text": [
      " I always return 3\n I always return 3\n I always return 3\n"
     ]
    },
    {
     "data": {
      "text/plain": [
       "True"
      ]
     },
     "execution_count": 51,
     "metadata": {},
     "output_type": "execute_result"
    }
   ],
   "source": [
    "foo.dd is Foo().dd is Foo.dd"
   ]
  },
  {
   "cell_type": "code",
   "execution_count": 42,
   "metadata": {},
   "outputs": [
    {
     "name": "stdout",
     "output_type": "stream",
     "text": [
      "I am funny non-data descriptor. I always return 3\nI am funny non-data descriptor. I always return 3\nI am funny non-data descriptor. I always return 3\n"
     ]
    },
    {
     "data": {
      "text/plain": [
       "True"
      ]
     },
     "execution_count": 42,
     "metadata": {},
     "output_type": "execute_result"
    }
   ],
   "source": [
    "foo.ndd is Foo().ndd is Foo.ndd"
   ]
  },
  {
   "cell_type": "heading",
   "metadata": {},
   "level": 1,
   "source": [
    "Now here comes the special part of the descriptor. When accessing an attribute that it is a descriptor. instead of getting the atrribute value, the descriptor are invoked."
   ]
  },
  {
   "cell_type": "code",
   "execution_count": 58,
   "metadata": {},
   "outputs": [
    {
     "name": "stdout",
     "output_type": "stream",
     "text": [
      " I always return 3\nI am too lazy to set anything. Keeping value as 3\n I always return 3\nOh. No. I am Dead\n"
     ]
    }
   ],
   "source": [
    "foo.dd\n",
    "foo.dd = 0\n",
    "foo.dd\n",
    "del foo.dd"
   ]
  },
  {
   "cell_type": "code",
   "execution_count": 62,
   "metadata": {},
   "outputs": [
    {
     "name": "stdout",
     "output_type": "stream",
     "text": [
      "I am funny non-data descriptor. I always return 7\nOh. No. I am Dead\n"
     ]
    },
    {
     "ename": "AttributeError",
     "evalue": "__set__",
     "traceback": [
      "\u001b[1;31m---------------------------------------------------------------------------\u001b[0m",
      "\u001b[1;31mAttributeError\u001b[0m                            Traceback (most recent call last)",
      "\u001b[1;32m<ipython-input-62-3f72baae8d51>\u001b[0m in \u001b[0;36m<module>\u001b[1;34m()\u001b[0m\n\u001b[0;32m      1\u001b[0m \u001b[0mfoo\u001b[0m\u001b[1;33m.\u001b[0m\u001b[0mndd\u001b[0m\u001b[1;33m\u001b[0m\u001b[0m\n\u001b[0;32m      2\u001b[0m \u001b[1;32mdel\u001b[0m \u001b[0mfoo\u001b[0m\u001b[1;33m.\u001b[0m\u001b[0mndd\u001b[0m\u001b[1;33m\u001b[0m\u001b[0m\n\u001b[1;32m----> 3\u001b[1;33m \u001b[0mfoo\u001b[0m\u001b[1;33m.\u001b[0m\u001b[0mndd\u001b[0m \u001b[1;33m=\u001b[0m \u001b[1;36m0\u001b[0m\u001b[1;33m\u001b[0m\u001b[0m\n\u001b[0m",
      "\u001b[1;31mAttributeError\u001b[0m: __set__"
     ],
     "output_type": "error"
    }
   ],
   "source": [
    "foo.ndd\n",
    "foo.ndd = 0"
   ]
  },
  {
   "cell_type": "code",
   "execution_count": 63,
   "metadata": {},
   "outputs": [
    {
     "name": "stdout",
     "output_type": "stream",
     "text": [
      "Oh. No. I am Dead\n"
     ]
    }
   ],
   "source": [
    "del foo.ndd"
   ]
  },
  {
   "cell_type": "markdown",
   "metadata": {},
   "source": [
    "Now lets see shat is passed to the descriptor methods"
   ]
  },
  {
   "cell_type": "code",
   "execution_count": 74,
   "metadata": {},
   "outputs": [
    {
     "name": "stdout",
     "output_type": "stream",
     "text": [
      "<__main__.MyClass object at 0x0000000005124D68>\n(<__main__.MyClass object at 0x0000000005124D68>, <class '__main__.MyClass'>)\n"
     ]
    }
   ],
   "source": [
    "class D:\n",
    "    def __get__(self, obj, obj_type):\n",
    "        return obj, obj_type\n",
    "\n",
    "class MyClass:\n",
    "    d = D()\n",
    "    x = [1,2]\n",
    "\n",
    "my_class = MyClass()\n",
    "print(my_class)\n",
    "print(my_class.d)\n",
    "        "
   ]
  },
  {
   "cell_type": "heading",
   "metadata": {},
   "level": 1,
   "source": [
    "We can see that when calling my_class.d, instead of getting the value of d, Python invokesthe d's __get__ method and pass to it the obj my_class and the class of this object.\n"
   ]
  },
  {
   "cell_type": "heading",
   "metadata": {},
   "level": 1,
   "source": [
    "The only way to get the descriptor d itself is to access my_class __dict__"
   ]
  },
  {
   "cell_type": "code",
   "execution_count": 72,
   "metadata": {},
   "outputs": [
    {
     "data": {
      "text/plain": [
       "<__main__.D at 0x512ca90>"
      ]
     },
     "execution_count": 72,
     "metadata": {},
     "output_type": "execute_result"
    }
   ],
   "source": [
    "MyClass.__dict__['d']"
   ]
  },
  {
   "cell_type": "code",
   "execution_count": 77,
   "metadata": {},
   "outputs": [
    {
     "name": "stdout",
     "output_type": "stream",
     "text": [
      "True\nFalse\n"
     ]
    }
   ],
   "source": [
    "print(MyClass.__dict__['x'] is MyClass.x)\n",
    "print(MyClass.__dict__['d'] is MyClass.d)"
   ]
  },
  {
   "cell_type": "heading",
   "metadata": {},
   "level": 1,
   "source": [
    "Now, we know from regular attributes that object atrribute wit hte sam ename as class attributes has prioirty"
   ]
  },
  {
   "cell_type": "code",
   "execution_count": 29,
   "metadata": {},
   "outputs": [
    {
     "name": "stdout",
     "output_type": "stream",
     "text": [
      "I am too lazy to set anything. Keeping value as 3\nI am too lazy to set anything. Keeping value as 3\n"
     ]
    }
   ],
   "source": [
    "foo.x = 10\n",
    "type(foo).__dict__['x'].__set__(foo, 10)"
   ]
  },
  {
   "cell_type": "code",
   "execution_count": 3,
   "metadata": {},
   "outputs": [
    {
     "name": "stdout",
     "output_type": "stream",
     "text": [
      "I am funny. I always return 3\n"
     ]
    },
    {
     "data": {
      "text/plain": [
       "3"
      ]
     },
     "execution_count": 72,
     "metadata": {},
     "output_type": "execute_result"
    }
   ],
   "source": [
    "foo.x"
   ]
  },
  {
   "cell_type": "code",
   "execution_count": 82,
   "metadata": {},
   "outputs": [
    {
     "name": "stdout",
     "output_type": "stream",
     "text": [
      "[1, 2]\n[3, 4]\n"
     ]
    }
   ],
   "source": [
    "class Foo:\n",
    "    x = [1,2]\n",
    "    def __init__(self):\n",
    "        self.x = [3,4]\n",
    "foo = Foo()\n",
    "print(Foo.x)\n",
    "print(foo.x)"
   ]
  },
  {
   "cell_type": "code",
   "execution_count": 90,
   "metadata": {},
   "outputs": [
    {
     "name": "stdout",
     "output_type": "stream",
     "text": [
      "descriptor set invoked\ndescriptor get invoked\nreturn value\n"
     ]
    }
   ],
   "source": [
    "class D:\n",
    "    def __get__(self, obj, obj_type): \n",
    "        print('descriptor get invoked')\n",
    "        return 'return value'\n",
    "    \n",
    "    def __set__(self, obj, val):\n",
    "        print('descriptor set invoked')\n",
    "    \n",
    "    def __delete__(self, obj):\n",
    "        print('descriptor delete invoked')\n",
    "\n",
    "class Foo:\n",
    "    d = D()\n",
    "    def __init__(self):\n",
    "        self.d = 3\n",
    "\n",
    "foo = Foo()\n",
    "print(foo.d)\n",
    "#print(foo.d)"
   ]
  },
  {
   "cell_type": "code",
   "execution_count": 104,
   "metadata": {},
   "outputs": [
    {
     "name": "stdout",
     "output_type": "stream",
     "text": [
      "3\n"
     ]
    }
   ],
   "source": [
    "class D:\n",
    "    def __get__(self, obj, obj_type): \n",
    "        print('descriptor get invoked')\n",
    "        return 'return value'\n",
    "       \n",
    "    \n",
    "class Foo:\n",
    "\n",
    "    d = D()\n",
    "    \n",
    "    def __init__(self):\n",
    "        self.d = 3\n",
    "        \n",
    "    \n",
    "foo = Foo()\n",
    "print(foo.d)"
   ]
  },
  {
   "cell_type": "markdown",
   "metadata": {},
   "source": []
  },
  {
   "cell_type": "code",
   "execution_count": 24,
   "metadata": {},
   "outputs": [],
   "source": [
    "class FunnyProp:\n",
    "    # I am property that always return 3, \n",
    "    # too lazy to set anything, and notify my death \n",
    "    def __get__(self, obj, obj_type):\n",
    "        print('I am funny. I always return 3')\n",
    "        print('self = %s\\n obj = %s\\n obj_type = %s' %\n",
    "              (self, obj, obj_type))\n",
    "        return 3\n",
    "    \n",
    "    def __set__(self, obj, value):\n",
    "        print('I am too lazy to set anything. Keeping value as 3')\n",
    "    \n",
    "    def __delete__(self, obj):\n",
    "        print('Oh. No. I am Dead') \n",
    "\n",
    "class Foo:\n",
    "    \n",
    "    x = FunnyProp()\n",
    "    \n",
    "    def __init__(self):\n",
    "        pass\n",
    "        \n",
    "foo = Foo()\n"
   ]
  },
  {
   "cell_type": "code",
   "execution_count": 25,
   "metadata": {},
   "outputs": [
    {
     "name": "stdout",
     "output_type": "stream",
     "text": [
      "I am funny. I always return 3\nself = <__main__.FunnyProp object at 0x0000000005100A20>\n obj = <__main__.Foo object at 0x00000000051009E8>\n obj_type = <class '__main__.Foo'>\n"
     ]
    },
    {
     "data": {
      "text/plain": [
       "3"
      ]
     },
     "execution_count": 25,
     "metadata": {},
     "output_type": "execute_result"
    }
   ],
   "source": [
    "foo.x\n"
   ]
  },
  {
   "cell_type": "code",
   "execution_count": 26,
   "metadata": {},
   "outputs": [
    {
     "data": {
      "text/plain": [
       "<__main__.Foo at 0x51009e8>"
      ]
     },
     "execution_count": 26,
     "metadata": {},
     "output_type": "execute_result"
    }
   ],
   "source": [
    "foo"
   ]
  }
 ],
 "metadata": {
  "kernelspec": {
   "display_name": "Python 3",
   "language": "python",
   "name": "python3"
  },
  "language_info": {
   "codemirror_mode": {
    "name": "ipython",
    "version": 3
   },
   "file_extension": ".py",
   "mimetype": "text/x-python",
   "name": "python",
   "nbconvert_exporter": "python",
   "pygments_lexer": "ipython3",
   "version": "3.6.3"
  }
 },
 "nbformat": 4,
 "nbformat_minor": 2
}
